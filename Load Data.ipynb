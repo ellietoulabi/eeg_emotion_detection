{
 "cells": [
  {
   "cell_type": "markdown",
   "metadata": {},
   "source": [
    "# Imports"
   ]
  },
  {
   "cell_type": "code",
   "execution_count": null,
   "metadata": {},
   "outputs": [],
   "source": [
    "import numpy as np\n",
    "from scipy.io import loadmat, whosmat, savemat\n",
    "import os\n",
    "import re\n",
    "from tqdm import tqdm\n",
    "import pickle\n",
    "import warnings\n",
    "warnings.filterwarnings('ignore')"
   ]
  },
  {
   "cell_type": "markdown",
   "metadata": {},
   "source": [
    "# Utils"
   ]
  },
  {
   "cell_type": "code",
   "execution_count": null,
   "metadata": {},
   "outputs": [],
   "source": [
    "base_path = ''"
   ]
  },
  {
   "cell_type": "code",
   "execution_count": null,
   "metadata": {},
   "outputs": [],
   "source": [
    "# extract\n",
    "def ends_with_specific_number(input_string, specific_number):\n",
    "  pattern = re.compile(rf\".*{specific_number}$\")\n",
    "  return bool(pattern.match(input_string))"
   ]
  },
  {
   "cell_type": "code",
   "execution_count": null,
   "metadata": {},
   "outputs": [],
   "source": [
    "'''\n",
    "Sorts files based on:\n",
    "  1. subject (Asc)\n",
    "  2. experiment date (Asc)\n",
    "'''\n",
    "\n",
    "def custom_sort(file_name):\n",
    "  # Extract the number before the underscore and the date\n",
    "  match = re.match(r'(\\d+)_(\\d+)', file_name)\n",
    "  if match:\n",
    "    number_part = int(match.group(1))\n",
    "    date_part = int(match.group(2))\n",
    "    return (number_part, date_part)\n",
    "  else:\n",
    "    return (float('inf'), float('inf'))"
   ]
  },
  {
   "cell_type": "code",
   "execution_count": null,
   "metadata": {},
   "outputs": [],
   "source": [
    "features_info = whosmat(os.path.join(base_path, 'ExtractedFeatures/1_20131027.mat'))\n",
    "unique_features = set([re.sub(r'\\d+$', '', i[0]) for i in features_info])\n",
    "features_info = dict([(i[0], i[1]) for i in features_info])"
   ]
  },
  {
   "cell_type": "code",
   "execution_count": null,
   "metadata": {},
   "outputs": [],
   "source": [
    "# name of features\n",
    "features_map = {\n",
    "  0: 'asm_LDS',\n",
    "  1: 'asm_movingAve',\n",
    "  2: 'dasm_LDS',\n",
    "  3: 'dasm_movingAve',\n",
    "  4: 'dcau_LDS',\n",
    "  5: 'dcau_movingAve',\n",
    "  6: 'de_LDS',\n",
    "  7: 'de_movingAve',\n",
    "  8: 'psd_LDS',\n",
    "  9: 'psd_movingAve',\n",
    "  10: 'rasm_LDS',\n",
    "  11: 'rasm_movingAve'\n",
    "}"
   ]
  },
  {
   "cell_type": "markdown",
   "metadata": {},
   "source": [
    "# Saving All Features Data to Pickle File"
   ]
  },
  {
   "cell_type": "code",
   "execution_count": null,
   "metadata": {},
   "outputs": [],
   "source": [
    "# (15 subj x 3 exp x 15 tri, 12 uniq features, 62 max num channel, 265 max lenght, 5 freq band )\n",
    "data = np.zeros((675,12,62,265,5))\n",
    "p = os.path.join(base_path, 'ExtractedFeatures')\n",
    "for j, file in tqdm(enumerate(sorted([f for f in os.listdir(p) if '.mat' in f and '_' in f], key=custom_sort))): # subj\n",
    "  # print(j,file)\n",
    "  mat = loadmat(os.path.join(p, file))\n",
    "  for i in range(0,15): #trail\n",
    "    for k in range(12): # feature\n",
    "      data[j*15+i,k,:features_info[f'{features_map[k]}{i+1}'][0],:features_info[f'{features_map[k]}{i+1}'][1],:] = mat[f'{features_map[k]}{i+1}']\n",
    "      '''\n",
    "      data [current trial,feature, from begiging: number of channels of a feature, from begiging:lenght of data for a feature, all freq bands ] = mat [ a feature of a trial]\n",
    "\n",
    "      *For a specific freq band:\n",
    "              data[j*15+i,k,:features_info[f'{features_map[k]}{i+1}'][0],:features_info[f'{features_map[k]}{i+1}'][1],:] = mat[f'{features_map[k]}{i+1}'][:,:,freq band number]\n",
    "\n",
    "\n",
    "      '''"
   ]
  },
  {
   "cell_type": "code",
   "execution_count": null,
   "metadata": {},
   "outputs": [],
   "source": [
    "with open(os.path.join(base_path, 'alldata.pkl'), 'wb') as file:\n",
    "    pickle.dump(data, file)"
   ]
  }
 ],
 "metadata": {
  "language_info": {
   "name": "python"
  }
 },
 "nbformat": 4,
 "nbformat_minor": 2
}
