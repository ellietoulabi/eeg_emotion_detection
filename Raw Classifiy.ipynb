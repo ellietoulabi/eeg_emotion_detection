{
    "cells": [
        {
            "cell_type": "markdown",
            "metadata": {},
            "source": [
                "# Imports"
            ]
        },
        {
            "cell_type": "code",
            "execution_count": null,
            "metadata": {
                "id": "xShRDKmg8uje"
            },
            "outputs": [],
            "source": [
                "import numpy as np\n",
                "from scipy.io import loadmat, whosmat, savemat\n",
                "from sklearn.svm import SVC\n",
                "from sklearn.metrics import accuracy_score\n",
                "import os\n",
                "import re\n",
                "import pandas as pd\n",
                "from tqdm import tqdm\n",
                "from sklearn.svm import SVC\n",
                "from sklearn.metrics import accuracy_score\n",
                "import pickle\n",
                "import gc\n",
                "from sklearn.neighbors import KNeighborsClassifier\n",
                "from sklearn.linear_model import LogisticRegression\n",
                "from sklearn.preprocessing import StandardScaler\n",
                "from sklearn.model_selection import KFold, cross_val_score\n",
                "from sklearn.utils import shuffle\n",
                "from sklearn.neural_network import MLPClassifier\n",
                "from datetime import datetime\n",
                "import warnings\n",
                "warnings.filterwarnings('ignore')"
            ]
        },
        {
            "cell_type": "markdown",
            "metadata": {},
            "source": [
                "# Utils"
            ]
        },
        {
            "cell_type": "code",
            "execution_count": null,
            "metadata": {},
            "outputs": [],
            "source": [
                "base_path = ''"
            ]
        },
        {
            "cell_type": "code",
            "execution_count": null,
            "metadata": {
                "id": "3SQRXzX_GzgB"
            },
            "outputs": [],
            "source": [
                "# extract\n",
                "def ends_with_specific_number(input_string, specific_number):\n",
                "    pattern = re.compile(rf\".*{specific_number}$\")\n",
                "    return bool(pattern.match(input_string))\n",
                "'''\n",
                "Sorts files based on:\n",
                "  1. subject (Asc)\n",
                "  2. experiment date (Asc)\n",
                "'''\n",
                "\n",
                "def custom_sort(file_name):\n",
                "    # Extract the number before the underscore and the date\n",
                "    match = re.match(r'(\\d+)_(\\d+)', file_name)\n",
                "    if match:\n",
                "        number_part = int(match.group(1))\n",
                "        date_part = int(match.group(2))\n",
                "        return (number_part, date_part)\n",
                "    else:\n",
                "        return (float('inf'), float('inf'))"
            ]
        },
        {
            "cell_type": "markdown",
            "metadata": {},
            "source": [
                "# Loading Data"
            ]
        },
        {
            "cell_type": "code",
            "execution_count": null,
            "metadata": {
                "id": "nh_UB-EFEs_t"
            },
            "outputs": [],
            "source": [
                "data = np.zeros((675,62,4000))"
            ]
        },
        {
            "cell_type": "code",
            "execution_count": null,
            "metadata": {
                "id": "r-d_wkmoFh_L"
            },
            "outputs": [],
            "source": [
                "labels = loadmat(os.path.join(base_path, 'Preprocessed_EEG/label.mat'))['label'][0]\n",
                "labels_edited = np.empty(675)\n",
                "for i in range(0,45):\n",
                "  labels_edited[i*15:(i+1)*15] = labels"
            ]
        },
        {
            "cell_type": "code",
            "execution_count": null,
            "metadata": {
                "id": "6aiiX72gGikG",
                "outputId": "1ae6db91-16ad-41aa-ae79-7f027ccdad9d"
            },
            "outputs": [
                {
                    "name": "stderr",
                    "output_type": "stream",
                    "text": [
                        "45it [04:10,  5.56s/it]\n"
                    ]
                }
            ],
            "source": [
                "p = os.path.join(base_path, 'Preprocessed_EEG')\n",
                "for j, file in tqdm(enumerate(sorted([f for f in os.listdir(p) if '.mat' in f and '_' in f], key=custom_sort))):\n",
                "  # print(j,file)\n",
                "  mat = loadmat(os.path.join(p, file))\n",
                "  for i, k in enumerate(list(mat.keys())[3:]):\n",
                "    data[j*15+i,:,:] = mat[k][:,-4001:-1]"
            ]
        },
        {
            "cell_type": "code",
            "execution_count": null,
            "metadata": {
                "id": "v2pd-eizJXej"
            },
            "outputs": [],
            "source": [
                "data = data.reshape(675,-1)"
            ]
        },
        {
            "cell_type": "markdown",
            "metadata": {},
            "source": [
                "# Raw Data - 5 Fold - Last 20 Seconds"
            ]
        },
        {
            "cell_type": "code",
            "execution_count": null,
            "metadata": {
                "id": "LgVGtZPzI7n_",
                "outputId": "97c944d5-ed7a-480f-f760-0a4cd1c385ed"
            },
            "outputs": [
                {
                    "name": "stdout",
                    "output_type": "stream",
                    "text": [
                        "SVM Accuracy: 0.2962962962962963\n",
                        "K-Nearest Neighbors Accuracy: 0.35555555555555557\n",
                        "Logistic Regression Accuracy: 0.6444444444444445\n",
                        "SVM Accuracy: 0.2814814814814815\n",
                        "K-Nearest Neighbors Accuracy: 0.37037037037037035\n",
                        "Logistic Regression Accuracy: 0.45925925925925926\n",
                        "SVM Accuracy: 0.28888888888888886\n",
                        "K-Nearest Neighbors Accuracy: 0.3333333333333333\n",
                        "Logistic Regression Accuracy: 0.5555555555555556\n",
                        "SVM Accuracy: 0.2814814814814815\n",
                        "K-Nearest Neighbors Accuracy: 0.32592592592592595\n",
                        "Logistic Regression Accuracy: 0.5111111111111111\n",
                        "SVM Accuracy: 0.28888888888888886\n",
                        "K-Nearest Neighbors Accuracy: 0.35555555555555557\n",
                        "Logistic Regression Accuracy: 0.5333333333333333\n"
                    ]
                }
            ],
            "source": [
                "results_dict ={\n",
                "  \"SVM\": [],\n",
                "  \"K-Nearest Neighbors\":[],\n",
                "  \"Logistic Regression\": []\n",
                "}\n",
                "kf = KFold(n_splits=5, shuffle=True, random_state=42)\n",
                "for train_index, test_index in kf.split(data):\n",
                "  train_data, test_data = data[train_index], data[test_index]\n",
                "  train_labels, test_labels = labels_edited[train_index], labels_edited[test_index]\n",
                "  classifiers = {\n",
                "  \"SVM\": SVC(),\n",
                "  \"K-Nearest Neighbors\": KNeighborsClassifier(),\n",
                "  \"Logistic Regression\": LogisticRegression()\n",
                "  }\n",
                "\n",
                "  for name, clf in classifiers.items():\n",
                "    clf.fit(train_data, train_labels)\n",
                "    predictions = clf.predict(test_data)\n",
                "    accuracy = accuracy_score(test_labels, predictions)\n",
                "    print(f\"{name} Accuracy: {accuracy}\")\n",
                "    results_dict[name].append(accuracy)\n",
                "\n",
                "df = pd.DataFrame(results_dict)\n",
                "df.to_csv('rawdata-5fold-last20sec.csv')"
            ]
        }
    ],
    "metadata": {
        "kernelspec": {
            "display_name": "Python 3",
            "name": "python3"
        },
        "language_info": {
            "name": "python"
        }
    },
    "nbformat": 4,
    "nbformat_minor": 0
}
